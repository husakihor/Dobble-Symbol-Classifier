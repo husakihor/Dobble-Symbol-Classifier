{
 "cells": [
  {
   "cell_type": "markdown",
   "id": "dda25348",
   "metadata": {
    "pycharm": {
     "name": "#%% md\n"
    }
   },
   "source": [
    "# IML Project - Report Notebook\n",
    "---\n",
    "Project by:\n",
    "- benoist.andre\n",
    "- erwann.harris\n",
    "- ihor.husak\n",
    "- melanie.tcheou\n",
    "\n",
    "You can find the video presentation [**here**](https://www.youtube.com/watch?v=ql-q-biGUlU) __**#FIXME(Change link)**__"
   ]
  },
  {
   "cell_type": "markdown",
   "id": "86f0fee5",
   "metadata": {
    "pycharm": {
     "name": "#%% md\n"
    }
   },
   "source": [
    "Who did what?\n",
    "\n",
    "|                            | Benoist | Erwann | Ihor | Mélanie |\n",
    "|----------------------------|---------|--------|------|---------|\n",
    "| Dummy Baseline             |         |        |      | ✅       |\n",
    "| Simple Shape Extractor     |         |        | ✅    |         |\n",
    "| Image Moments              |         |        |      | ✅       |\n",
    "| Color Histograms           |         | ✅      |      |         |\n",
    "| Feature Extractor Research (ORB) |         | ✅      |      |         |\n",
    "| Feature Fusion             |         |        |      | ✅       |\n",
    "| Classifier Research        | ✅       |        | ✅    |       |\n",
    "| Classifier Evaluation      | ✅       |        |      |         |"
   ]
  },
  {
   "cell_type": "markdown",
   "id": "9da31af4",
   "metadata": {
    "pycharm": {
     "name": "#%% md\n"
    }
   },
   "source": [
    "### Table of Contents\n",
    "\n",
    "- [**Evaluation Tools**](#Tools)\n",
    "- [**The Dummy Baseline**](#Dummy)\n",
    "- [**Feature Extractors**](#FT)\n",
    "    - [**Simple Shape Extractor**](#Shape)\n",
    "        - [Evaluating the results](#ShapeEval)\n",
    "    - [**Image Moments**](#ImageMoments)\n",
    "        - [Raw Moments](#ImageMomentsRaw)\n",
    "        - [Central Moments](#ImageMomentsCentral)\n",
    "        - [Central Normalized Moments](#ImageMomentsNormalized)\n",
    "        - [Hu Invariants](#ImageMomentsHu)\n",
    "        - [Evaluating the results : The importance of normalizing the data](#ImageMomentsEval)\n",
    "\n",
    "    - [**Color Histograms**](#ColorHistograms)\n",
    "        - [Evaluating the results](#ColorHistogramsEval)\n",
    "- [**Improving the results : Feature Fusion**](#Improve)\n",
    "- [**Evaluating and comparing the results**](#Evaluate)\n",
    "- [**Results Analysis**](#Results)\n",
    "- [**Conclusion**](#Conclusion)"
   ]
  },
  {
   "cell_type": "code",
   "execution_count": 30,
   "outputs": [],
   "source": [
    "# Basic imports\n",
    "import numpy as np\n",
    "import os\n",
    "import cv2\n",
    "import math\n",
    "import random\n",
    "import matplotlib.pyplot as plt\n",
    "\n",
    "#Used for color histogram\n",
    "from scipy import ndimage as ndi\n",
    "from scipy.spatial.distance import euclidean, cosine\n",
    "from skimage import filters\n",
    "from sklearn.cluster import KMeans\n",
    "\n",
    "random.seed(10)\n",
    "\n",
    "# Classifiers\n",
    "from sklearn.ensemble import RandomForestClassifier\n",
    "from sklearn.naive_bayes import GaussianNB\n",
    "from sklearn.tree import DecisionTreeClassifier\n",
    "from sklearn.neighbors import NearestCentroid\n",
    "from sklearn.neighbors import KNeighborsClassifier\n",
    "from sklearn.linear_model import LogisticRegression\n",
    "from sklearn.svm import LinearSVC\n",
    "from sklearn.linear_model import RidgeClassifier\n",
    "from sklearn.neural_network import MLPClassifier\n",
    "import numpy as np\n",
    "import random\n",
    "from matplotlib import pyplot as plt\n",
    "from skimage import io, measure, filters, segmentation, feature, morphology\n",
    "from sklearn.cluster import KMeans\n",
    "from scipy.spatial.distance import euclidean\n",
    "from scipy import ndimage as ndi\n",
    "import cv2\n",
    "from sklearn.metrics import f1_score\n",
    "\n",
    "import joblib"
   ],
   "metadata": {
    "collapsed": false,
    "pycharm": {
     "name": "#%%\n"
    }
   }
  },
  {
   "cell_type": "code",
   "execution_count": 31,
   "outputs": [],
   "source": [
    "trainpath = 'trainset/train'"
   ],
   "metadata": {
    "collapsed": false,
    "pycharm": {
     "name": "#%%\n"
    }
   }
  },
  {
   "cell_type": "markdown",
   "source": [
    "## Evaluation Tools <a class=\"anchor\" id=\"Tools\"></a>\n",
    "The following functions will be useful to simply evaluate our different feature extractors.\n"
   ],
   "metadata": {
    "collapsed": false,
    "pycharm": {
     "name": "#%% md\n"
    }
   }
  },
  {
   "cell_type": "code",
   "execution_count": 32,
   "outputs": [],
   "source": [
    "def get_imgs_paths(\n",
    "        data_dir):  # Gets full paths for all images in the trainset, and splits it into train et test datasets.\n",
    "    xtrain, ytrain, xtest, ytest = [], [], [], []\n",
    "\n",
    "    for label in os.listdir(data_dir):\n",
    "        dirpath = os.path.join(data_dir, label)\n",
    "        imgs_paths = os.listdir(dirpath)\n",
    "        itest = random.randint(0,\n",
    "                               4)  # As we have 5 images per category, we want to use 4 for training, and keep 1 for testing.\n",
    "\n",
    "        for i in range(len(imgs_paths)):\n",
    "            impath = os.path.join(dirpath, imgs_paths[i])\n",
    "            if i != itest:\n",
    "                xtrain.append(impath)\n",
    "                ytrain.append(label)\n",
    "            else:\n",
    "                xtest.append(impath)\n",
    "                ytest.append(label)\n",
    "\n",
    "    return xtrain, ytrain, xtest, ytest\n",
    "\n",
    "\n",
    "def get_data(xpaths, feature_extractor):  # Computes the given feature for each path in the given paths list.\n",
    "    xdata = []\n",
    "    for path in xpaths:\n",
    "        feature = feature_extractor(path)\n",
    "        xdata.append(feature)\n",
    "    return np.array(xdata)"
   ],
   "metadata": {
    "collapsed": false,
    "pycharm": {
     "name": "#%%\n"
    }
   }
  },
  {
   "cell_type": "code",
   "execution_count": 33,
   "outputs": [],
   "source": [
    "def my_test(xtrain, ytrain, test_input, test_expected, clf=RandomForestClassifier(), return_res=False):\n",
    "    clf.fit(xtrain, ytrain)\n",
    "\n",
    "    false = 0\n",
    "    preds = []\n",
    "    for i in range(len(test_input)):\n",
    "        res = clf.predict(test_input[i].reshape(1, -1))[0]\n",
    "        if res != test_expected[i]:\n",
    "            false += 1\n",
    "        preds.append(res)\n",
    "\n",
    "    print(\"{:<20}% success\".format((1 - false / len(test_input)) * 100))\n",
    "    if return_res: return preds"
   ],
   "metadata": {
    "collapsed": false,
    "pycharm": {
     "name": "#%%\n"
    }
   }
  },
  {
   "cell_type": "markdown",
   "source": [
    "To test the feature extractors, we will be using the same dataset which will be the following :"
   ],
   "metadata": {
    "collapsed": false,
    "pycharm": {
     "name": "#%% md\n"
    }
   }
  },
  {
   "cell_type": "code",
   "execution_count": 34,
   "outputs": [],
   "source": [
    "xtrainpaths, ytrain, xtestpaths, ytest = get_imgs_paths(trainpath)"
   ],
   "metadata": {
    "collapsed": false,
    "pycharm": {
     "name": "#%%\n"
    }
   }
  },
  {
   "cell_type": "markdown",
   "source": [
    "## The Dummy Baseline<a class=\"anchor\" id=\"Dummy\"></a>\n",
    "The first step was to create a dummy baseline that would guess a class at random that would be our base for evaluation."
   ],
   "metadata": {
    "collapsed": false,
    "pycharm": {
     "name": "#%% md\n"
    }
   }
  },
  {
   "cell_type": "code",
   "execution_count": 35,
   "outputs": [],
   "source": [
    "class random_clf:  # To represent the random classifier, aka the dummy implementation\n",
    "    def fit(xtrain, ytrain):\n",
    "        return\n",
    "\n",
    "    def predict(input_):\n",
    "        return [random.randint(1, 57)]"
   ],
   "metadata": {
    "collapsed": false,
    "pycharm": {
     "name": "#%%\n"
    }
   }
  },
  {
   "cell_type": "code",
   "execution_count": 36,
   "outputs": [
    {
     "name": "stdout",
     "output_type": "stream",
     "text": [
      "0.0                 % success\n"
     ]
    },
    {
     "name": "stderr",
     "output_type": "stream",
     "text": [
      "C:\\Users\\Administrateur\\AppData\\Local\\Temp\\ipykernel_6512\\2603109664.py:6: VisibleDeprecationWarning: Creating an ndarray from ragged nested sequences (which is a list-or-tuple of lists-or-tuples-or ndarrays with different lengths or shapes) is deprecated. If you meant to do this, you must specify 'dtype=object' when creating the ndarray.\n",
      "  return np.array(xdata)\n"
     ]
    }
   ],
   "source": [
    "def tmp_get_data(xpaths):  # Computes the given feature for each path in the given paths list.\n",
    "    xdata = []\n",
    "    for path in xpaths:\n",
    "        img = cv2.imread(path)\n",
    "        xdata.append(img)\n",
    "    return np.array(xdata)\n",
    "\n",
    "\n",
    "my_test(tmp_get_data(xtrainpaths), ytrain, tmp_get_data(xtestpaths), ytest, clf=random_clf)"
   ],
   "metadata": {
    "collapsed": false,
    "pycharm": {
     "name": "#%%\n"
    }
   }
  },
  {
   "cell_type": "markdown",
   "source": [
    "Quite obviously, the restults are far from good. We thus have to find another way to improve our predictions. We shall try different feature extraction methods, and figure which ones are best suited four our problem."
   ],
   "metadata": {
    "collapsed": false,
    "pycharm": {
     "name": "#%% md\n"
    }
   }
  },
  {
   "cell_type": "markdown",
   "source": [
    "## Feature Extractors<a class=\"anchor\" id=\"FT\"></a>"
   ],
   "metadata": {
    "collapsed": false,
    "pycharm": {
     "name": "#%% md\n"
    }
   }
  },
  {
   "cell_type": "markdown",
   "source": [
    "## Simple shape extractor <a class=\"anchor\" id=\"Shape\"></a>\n",
    "A basic way to describe an image would be by the shape of its content. To extract this shape, we use a Sobel filter on the image to get its edges, \n",
    "followed by a binary fill to fill the shape.\n",
    "\n",
    "This shape extracting technique probably is too simple and we predict that it will not be scale and orientation resistant if we feed the data as is into the classifier."
   ],
   "metadata": {
    "collapsed": false,
    "pycharm": {
     "name": "#%% md\n"
    }
   }
  },
  {
   "cell_type": "code",
   "execution_count": 37,
   "outputs": [],
   "source": [
    "def extract_shape(image):\n",
    "    sobel = filters.sobel(image)\n",
    "    res = ndi.binary_fill_holes(sobel)\n",
    "    return res"
   ],
   "metadata": {
    "collapsed": false,
    "pycharm": {
     "name": "#%%\n"
    }
   }
  },
  {
   "cell_type": "markdown",
   "source": [
    "The issue with this technique is that the resulting array shape depends on the input image. To pass it through a classifier, we need to resize it, to make the images the same size."
   ],
   "metadata": {
    "collapsed": false,
    "pycharm": {
     "name": "#%% md\n"
    }
   }
  },
  {
   "cell_type": "code",
   "execution_count": 38,
   "outputs": [],
   "source": [
    "def get_images(path_list):\n",
    "    images = []\n",
    "    for path in path_list:\n",
    "        images.append(cv2.imread(path, cv2.IMREAD_GRAYSCALE))\n",
    "    return images\n",
    "\n",
    "\n",
    "def get_shapes(images):\n",
    "    shapes = []\n",
    "    for image in images:\n",
    "        extracted = extract_shape(image)\n",
    "        extracted.resize(300, 300)  # Resize images to the same size\n",
    "        shapes.append(extracted)\n",
    "    return shapes\n",
    "\n",
    "\n",
    "def prep_data(path_list):\n",
    "    images = get_images(path_list)\n",
    "    shapes = get_shapes(images)\n",
    "    reshaped = []\n",
    "    for shape in shapes:\n",
    "        w, h = shape.shape\n",
    "        reshape = shape.reshape(-1)\n",
    "        reshaped.append(reshape)\n",
    "    return reshaped"
   ],
   "metadata": {
    "collapsed": false,
    "pycharm": {
     "name": "#%%\n"
    }
   }
  },
  {
   "cell_type": "markdown",
   "source": [
    "### Evaluating the results<a class=\"anchor\" id=\"ShapeEval\"></a>"
   ],
   "metadata": {
    "collapsed": false,
    "pycharm": {
     "name": "#%% md\n"
    }
   }
  },
  {
   "cell_type": "code",
   "execution_count": 39,
   "outputs": [
    {
     "name": "stdout",
     "output_type": "stream",
     "text": [
      "8.771929824561408   % success\n"
     ]
    }
   ],
   "source": [
    "xtrain = prep_data(xtrainpaths)\n",
    "xtest = prep_data(xtestpaths)\n",
    "\n",
    "preds = my_test(xtrain, ytrain, xtest, ytest, return_res=True)"
   ],
   "metadata": {
    "collapsed": false,
    "pycharm": {
     "name": "#%%\n"
    }
   }
  },
  {
   "cell_type": "markdown",
   "source": [
    "As we can see, the results of this simple feature extraction are not very satisfying.\n",
    "\n",
    "As predicted, simply extracting the general shape of the object is not good enough as it is obviously not scale and rotation resistant. "
   ],
   "metadata": {
    "collapsed": false,
    "pycharm": {
     "name": "#%% md\n"
    }
   }
  },
  {
   "cell_type": "markdown",
   "source": [
    "Although weak as a feature on its own, this filter will come in handy as a tool for other feature extractors, as it is still quite efficient at detecting the global shape."
   ],
   "metadata": {
    "collapsed": false,
    "pycharm": {
     "name": "#%% md\n"
    }
   }
  },
  {
   "cell_type": "code",
   "execution_count": 40,
   "outputs": [
    {
     "data": {
      "text/plain": "<Figure size 360x360 with 25 Axes>",
      "image/png": "[encoded data removed]"
     },
     "metadata": {
      "needs_background": "light"
     },
     "output_type": "display_data"
    }
   ],
   "source": [
    "i = 0\n",
    "plt.figure(figsize=(5, 5))\n",
    "for p in random.sample(xtrainpaths, 25):\n",
    "    img = cv2.imread(p, cv2.IMREAD_GRAYSCALE)\n",
    "    shape = extract_shape(img).reshape(img.shape).astype(np.uint) * 255\n",
    "    plt.subplot(5, 5, i + 1)\n",
    "    plt.imshow(shape)\n",
    "    plt.axis(\"off\")\n",
    "    i += 1\n",
    "plt.tight_layout()\n",
    "plt.show()"
   ],
   "metadata": {
    "collapsed": false,
    "pycharm": {
     "name": "#%%\n"
    }
   }
  },
  {
   "cell_type": "markdown",
   "source": [
    "To overcome this issue, there are some other techniques such as the image moments, and its variant, the Hu moments, that can also be implemented."
   ],
   "metadata": {
    "collapsed": false,
    "pycharm": {
     "name": "#%% md\n"
    }
   }
  },
  {
   "cell_type": "markdown",
   "source": [
    "---\n",
    "## Image Moments <a class=\"anchor\" id=\"ImageMoments\"></a>\n",
    "\n",
    "Image moments are a great way to describe an image no matter its size or orientation. To implement it, we decided to follow its [wikipedia page](https://en.wikipedia.org/wiki/Image_moment).\n",
    "\n",
    "#### Raw Moments<a class=\"anchor\" id=\"ImageMomentsRaw\"></a>\n",
    "For a 2D continuous function f(x,y) the moment (sometimes called \"raw moment\") of order (p + q) is defined as:\n",
    "\n",
    "$$M_{pq} = \\int_{-\\infty}^{\\infty} \\int_{-\\infty}^{\\infty} x^py^qf(x,y)\\,dx\\,dy$$\n",
    "\n",
    "for p,q = 0,1,2,... Adapting this to scalar (greyscale) image with pixel intensities $I(x,y)$, raw image moments $M_{ij}$ are calculated by:\n",
    "\n",
    "$$M_{ij} = \\sum_{x}\\sum_{y} x^iy^jI(x, y) $$"
   ],
   "metadata": {
    "collapsed": false,
    "pycharm": {
     "name": "#%% md\n"
    }
   }
  },
  {
   "cell_type": "code",
   "execution_count": 41,
   "outputs": [],
   "source": [
    "def raw_moments(img, order=3):\n",
    "    moments = {}\n",
    "    y, x = np.mgrid[:img.shape[0], :img.shape[1]]\n",
    "    for j in range(order + 1):\n",
    "        for i in range(order + 1):\n",
    "            if i + j <= order:\n",
    "                moments[f\"m{i}{j}\"] = np.float64(np.sum(x ** i * y ** j * img))\n",
    "    return moments"
   ],
   "metadata": {
    "collapsed": false,
    "pycharm": {
     "name": "#%%\n"
    }
   }
  },
  {
   "cell_type": "markdown",
   "source": [
    "#### Central Moments<a class=\"anchor\" id=\"ImageMomentsCentral\"></a>\n",
    "\n",
    "For a 2D continuous function f(x,y) , central moments are defined as:\n",
    "$$\\mu _{{pq}}=\\int \\limits _{{-\\infty }}^{{\\infty }}\\int \\limits _{{-\\infty }}^{{\\infty }}(x-{\\bar  {x}})^{p}(y-{\\bar  {y}})^{q}f(x,y)\\,dx\\,dy$$ \n",
    "$\\bar{x}={\\frac {M_{10}}{M_{00}}}$ and $\\bar{y}={\\frac {M_{01}}{M_{00}}}$ being the components of the centroid.\n",
    "\n",
    "If $I(x, y)$ is a digital image, then the previous equation becomes\n",
    "\n",
    "$$\\mu _{ij}=\\sum _{x}\\sum _{y}(x-{\\bar {x}})^{i}(y-{\\bar {y}})^{j}I(x,y)$$\n",
    "\n",
    "Central moments are **translational invariant**."
   ],
   "metadata": {
    "collapsed": false,
    "pycharm": {
     "name": "#%% md\n"
    }
   }
  },
  {
   "cell_type": "code",
   "execution_count": 42,
   "outputs": [],
   "source": [
    "def central_moments(img, raw, moments={}, order=3):\n",
    "    y, x = np.mgrid[:img.shape[0], :img.shape[1]]\n",
    "\n",
    "    centroidx = raw[\"m10\"] / raw[\"m00\"]\n",
    "    centroidy = raw[\"m01\"] / raw[\"m00\"]\n",
    "\n",
    "    for j in range(order + 1):\n",
    "        for i in range(order + 1):\n",
    "            if i + j <= order and (i + j > 1):  #mu01 = mu10 = 0 #mu00 = m00\n",
    "                moments[f\"mu{i}{j}\"] = np.float64(np.sum((x - centroidx) ** i * (y - centroidy) ** j * img))\n",
    "    return moments"
   ],
   "metadata": {
    "collapsed": false,
    "pycharm": {
     "name": "#%%\n"
    }
   }
  },
  {
   "cell_type": "markdown",
   "source": [
    "#### Central Normalized Moments<a class=\"anchor\" id=\"ImageMomentsNormalized\"></a>\n",
    "Invariants $\\eta_{ij}$ with respect to both translation and scale can be constructed from central moments by dividing through a properly scaled zero-th central moment:\n",
    "\n",
    "$$\\eta _{ij}={\\frac {\\mu _{ij}}{\\mu _{00}^{\\left(1+{\\frac {i+j}{2}}\\right)}}}$$\n",
    "where i + j ≥ 2. Note that translational invariance directly follows by only using central moments."
   ],
   "metadata": {
    "collapsed": false,
    "pycharm": {
     "name": "#%% md\n"
    }
   }
  },
  {
   "cell_type": "code",
   "execution_count": 43,
   "outputs": [],
   "source": [
    "def central_normalized_moments(img, m00, central, moments={}, order=3):\n",
    "    y, x = np.mgrid[:img.shape[0], :img.shape[1]]\n",
    "    for j in range(4):\n",
    "        for i in range(4):\n",
    "            if i + j >= 2 and i + j <= order:\n",
    "                moments[f\"nu{i}{j}\"] = np.float64(central[f\"mu{i}{j}\"] / m00 ** (1 + (i + j) / 2))\n",
    "    return moments"
   ],
   "metadata": {
    "collapsed": false,
    "pycharm": {
     "name": "#%%\n"
    }
   }
  },
  {
   "cell_type": "code",
   "execution_count": 44,
   "outputs": [],
   "source": [
    "def moments(imginv):  # Regroups all the moments in one dict\n",
    "    raw = raw_moments(imginv)\n",
    "    central = central_moments(imginv, raw, raw)\n",
    "    central_normal = central_normalized_moments(imginv, raw[\"m00\"], central, central)\n",
    "    return central_normal"
   ],
   "metadata": {
    "collapsed": false,
    "pycharm": {
     "name": "#%%\n"
    }
   }
  },
  {
   "cell_type": "markdown",
   "source": [
    "#### Hu Invariants<a class=\"anchor\" id=\"ImageMomentsHu\"></a>\n",
    "As shown in the work of Hu, invariants with respect to translation, scale, and rotation can be constructed as the following:\n",
    "\n",
    "$I_{1}=\\eta _{{20}}+\\eta _{{02}}$\n",
    "\n",
    "$I_{2}=(\\eta _{{20}}-\\eta _{{02}})^{2}+4\\eta _{{11}}^{2}$\n",
    "\n",
    "$I_{3}=(\\eta _{{30}}-3\\eta _{{12}})^{2}+(3\\eta _{{21}}-\\eta _{{03}})^{2}$\n",
    "\n",
    "$I_{4}=(\\eta _{{30}}+\\eta _{{12}})^{2}+(\\eta _{{21}}+\\eta _{{03}})^{2}$\n",
    "\n",
    "$I_{5}=(\\eta _{{30}}-3\\eta _{{12}})(\\eta _{{30}}+\\eta _{{12}})[(\\eta _{{30}}+\\eta _{{12}})^{2}-3(\\eta _{{21}}+\\eta _{{03}})^{2}]+(3\\eta _{{21}}-\\eta _{{03}})(\\eta _{{21}}+\\eta _{{03}})[3(\\eta _{{30}}+\\eta _{{12}})^{2}-(\\eta _{{21}}+\\eta _{{03}})^{2}]$\n",
    "\n",
    "$I_{6}=(\\eta _{{20}}-\\eta _{{02}})[(\\eta _{{30}}+\\eta _{{12}})^{2}-(\\eta _{{21}}+\\eta _{{03}})^{2}]+4\\eta _{{11}}(\\eta _{{30}}+\\eta _{{12}})(\\eta _{{21}}+\\eta _{{03}})$\n",
    "\n",
    "$I_{7}=(3\\eta _{{21}}-\\eta _{{03}})(\\eta _{{30}}+\\eta _{{12}})[(\\eta _{{30}}+\\eta _{{12}})^{2}-3(\\eta _{{21}}+\\eta _{{03}})^{2}]-(\\eta _{{30}}-3\\eta _{{12}})(\\eta _{{21}}+\\eta _{{03}})[3(\\eta _{{30}}+\\eta _{{12}})^{2}-(\\eta _{{21}}+\\eta _{{03}})^{2}].$"
   ],
   "metadata": {
    "collapsed": false,
    "pycharm": {
     "name": "#%% md\n"
    }
   }
  },
  {
   "cell_type": "code",
   "execution_count": 45,
   "outputs": [],
   "source": [
    "def hu_invariants_raw(cnm):  # Hu invariants based on the formulas above\n",
    "    hu = np.array([\n",
    "        cnm[\"nu20\"] + cnm[\"nu02\"],\n",
    "        (cnm[\"nu20\"] - cnm[\"nu02\"]) ** 2 + 4 * cnm[\"nu11\"] ** 2,\n",
    "        (cnm[\"nu30\"] - 3 * cnm[\"nu12\"]) ** 2 + (3 * cnm[\"nu21\"] - cnm[\"nu03\"]) ** 2,\n",
    "        (cnm[\"nu30\"] + cnm[\"nu12\"]) ** 2 + (cnm[\"nu21\"] - cnm[\"nu03\"]) ** 2,\n",
    "        (cnm[\"nu30\"] - 3 * cnm[\"nu12\"]) * (cnm[\"nu30\"] + cnm[\"nu12\"])\n",
    "        * ((cnm[\"nu30\"] + cnm[\"nu12\"]) ** 2 - 3 * (cnm[\"nu21\"] + cnm[\"nu03\"]) ** 2)\n",
    "        + (3 * cnm[\"nu21\"] - cnm[\"nu03\"]) * (cnm[\"nu21\"] + cnm[\"nu03\"])\n",
    "        * (3 * (cnm[\"nu30\"] + cnm[\"nu12\"]) ** 2 - (cnm[\"nu21\"] + cnm[\"nu03\"]) ** 2),\n",
    "        (cnm[\"nu20\"] - cnm[\"nu02\"]) * ((cnm[\"nu30\"] + cnm[\"nu12\"]) ** 2 - (cnm[\"nu21\"] + cnm[\"nu03\"]) ** 2)\n",
    "        + 4 * cnm[\"nu11\"] * (cnm[\"nu30\"] + cnm[\"nu12\"]) * (cnm[\"nu21\"] + cnm[\"nu03\"]),\n",
    "        (3 * cnm[\"nu21\"] - cnm[\"nu03\"]) * (cnm[\"nu30\"] + cnm[\"nu12\"])\n",
    "        * ((cnm[\"nu30\"] + cnm[\"nu12\"]) ** 2 - 3 * (cnm[\"nu21\"] + cnm[\"nu03\"]) ** 2)\n",
    "        - (cnm[\"nu30\"] - 3 * cnm[\"nu12\"]) * (cnm[\"nu21\"] + cnm[\"nu03\"])\n",
    "        * (3 * (cnm[\"nu30\"] + cnm[\"nu12\"]) ** 2 - (cnm[\"nu21\"] + cnm[\"nu03\"]) ** 2)\n",
    "    ])\n",
    "    return hu"
   ],
   "metadata": {
    "collapsed": false,
    "pycharm": {
     "name": "#%%\n"
    }
   }
  },
  {
   "cell_type": "markdown",
   "source": [
    "In order to check the results, we can compare them with the values generated by opencv's moments."
   ],
   "metadata": {
    "collapsed": false,
    "pycharm": {
     "name": "#%% md\n"
    }
   }
  },
  {
   "cell_type": "code",
   "execution_count": 46,
   "outputs": [],
   "source": [
    "def test_moments(imgpath='trainset/train/05/c01_s04.png', threshold=0.002):\n",
    "    print(f\"Test.ing for moments with {threshold} threshold.\")\n",
    "    img = cv2.imread(imgpath, cv2.IMREAD_GRAYSCALE)\n",
    "    imginv = cv2.bitwise_not(img)\n",
    "\n",
    "    mom_ref = cv2.moments(imginv)\n",
    "    mom = moments(imginv)\n",
    "\n",
    "    count = 0\n",
    "    invalid = []\n",
    "    for k in mom_ref.keys():\n",
    "        if abs(mom_ref[k] - mom[k]) < threshold:\n",
    "            count += 1\n",
    "        else:\n",
    "            invalid.append(k)\n",
    "\n",
    "    print(f\"[{count}/{len(mom_ref)}] {count / len(mom_ref) * 100}% success\")\n",
    "    if count != len(mom_ref):\n",
    "        print(\"\\nINVALID at:\")\n",
    "        for i in invalid:\n",
    "            print(f\"{i}: {abs(mom_ref[i] - mom[i])} > threshold({threshold}).\")\n",
    "\n",
    "\n",
    "def test_hu(imgpath='trainset/train/05/c01_s04.png', threshold=0.002):\n",
    "    print(f\"Test.ing for hu invariants with {threshold} threshold.\")\n",
    "    img = cv2.imread(imgpath, cv2.IMREAD_GRAYSCALE)\n",
    "    imginv = cv2.bitwise_not(img)\n",
    "    mom_ref = cv2.moments(imginv)\n",
    "    mom = moments(imginv)\n",
    "\n",
    "    hui_ref = cv2.HuMoments(mom_ref)\n",
    "    hui = hu_invariants_raw(mom)\n",
    "\n",
    "    count = 0\n",
    "    invalid = []\n",
    "    for i in range(len(hui_ref)):\n",
    "        if abs(hui_ref[i][0] - hui[i]) < threshold:\n",
    "            count += 1\n",
    "        else:\n",
    "            invalid.append(i)\n",
    "\n",
    "    print(f\"[{count}/{len(hui_ref)}] {count / len(hui_ref) * 100}% success\")\n",
    "    if count != len(hui_ref):\n",
    "        print(\"\\nINVALID at:\")\n",
    "        for i in invalid:\n",
    "            print(f\"I{i}: {abs(hui_ref[i][0] - hui[i])} > threshold({threshold}).\")"
   ],
   "metadata": {
    "collapsed": false,
    "pycharm": {
     "name": "#%%\n"
    }
   }
  },
  {
   "cell_type": "code",
   "execution_count": 47,
   "outputs": [
    {
     "name": "stdout",
     "output_type": "stream",
     "text": [
      "Test.ing for moments with 0.01 threshold.\n",
      "[17/24] 70.83333333333334% success\n",
      "\n",
      "INVALID at:\n",
      "m20: 90194313216.0 > threshold(0.01).\n",
      "m11: 55834574848.0 > threshold(0.01).\n",
      "m02: 51539607552.0 > threshold(0.01).\n",
      "m30: 17441862189056.0 > threshold(0.01).\n",
      "m21: 9766755631104.0 > threshold(0.01).\n",
      "m12: 7468948127744.0 > threshold(0.01).\n",
      "m03: 7267084664832.0 > threshold(0.01).\n",
      "\n",
      "Test.ing for moments with 0.0001 threshold.\n",
      "[14/24] 58.333333333333336% success\n",
      "\n",
      "INVALID at:\n",
      "m20: 90194313216.0 > threshold(0.0001).\n",
      "m11: 55834574848.0 > threshold(0.0001).\n",
      "m02: 51539607552.0 > threshold(0.0001).\n",
      "m30: 17441862189056.0 > threshold(0.0001).\n",
      "m21: 9766755631104.0 > threshold(0.0001).\n",
      "m12: 7468948127744.0 > threshold(0.0001).\n",
      "m03: 7267084664832.0 > threshold(0.0001).\n",
      "mu30: 0.0001220703125 > threshold(0.0001).\n",
      "mu21: 0.0011749267578125 > threshold(0.0001).\n",
      "mu12: 0.000335693359375 > threshold(0.0001).\n",
      "\n",
      "Test.ing for hu invariants with 1e-10 threshold.\n",
      "[7/7] 100.0% success\n"
     ]
    }
   ],
   "source": [
    "test_moments(threshold=0.01)\n",
    "print()\n",
    "test_moments(threshold=0.0001)\n",
    "print()\n",
    "test_hu(threshold=0.0000000001)"
   ],
   "metadata": {
    "collapsed": false,
    "pycharm": {
     "name": "#%%\n"
    }
   }
  },
  {
   "cell_type": "markdown",
   "source": [
    "As we can see, the results are very closely similar. Although central moments tend to vary a little bit, the resulting hu invariants remain very similar.\n",
    "**These results allow us to validate our Hu Moments implementation.**"
   ],
   "metadata": {
    "collapsed": false,
    "pycharm": {
     "name": "#%% md\n"
    }
   }
  },
  {
   "cell_type": "markdown",
   "source": [
    "All of this allows us to create the following function that gives us the Hu Moments of an image given its path."
   ],
   "metadata": {
    "collapsed": false,
    "pycharm": {
     "name": "#%% md\n"
    }
   }
  },
  {
   "cell_type": "code",
   "execution_count": 48,
   "outputs": [],
   "source": [
    "def hu_from_path_raw(path):\n",
    "    img = cv2.imread(path, cv2.IMREAD_GRAYSCALE)  # Open image in grayscale\n",
    "    imginv = cv2.bitwise_not(img)  # Invert colors\n",
    "    mom = moments(imginv)\n",
    "    hu = hu_invariants_raw(mom)\n",
    "    return hu"
   ],
   "metadata": {
    "collapsed": false,
    "pycharm": {
     "name": "#%%\n"
    }
   }
  },
  {
   "cell_type": "markdown",
   "source": [
    "### Evaluating the results : The importance of normalizing the data<a class=\"anchor\" id=\"ImageMomentsEval\"></a>\n",
    "Although Hu moments are very effective at describing an image no matter its scale or orientation, the difference in magnitude can render the data, and thus the training, less effective.\n",
    "To avoid this, we can normalize the results using the following log transform as described **[here](https://learnopencv.com/shape-matching-using-hu-moments-c-python/)**.\n",
    "\n",
    "$$H_i = - \\text{sign}(h_i) \\log | h_i |$$"
   ],
   "metadata": {
    "collapsed": false,
    "pycharm": {
     "name": "#%% md\n"
    }
   }
  },
  {
   "cell_type": "code",
   "execution_count": 49,
   "outputs": [],
   "source": [
    " def hu_invariants(cnm):  # Apply the normalizing formula above on the raw Hu invariants\n",
    "    return np.array([-1 * math.copysign(1.0, i) * math.log10(abs(i)) for i in hu_invariants_raw(cnm)])"
   ],
   "metadata": {
    "collapsed": false,
    "pycharm": {
     "name": "#%%\n"
    }
   }
  },
  {
   "cell_type": "code",
   "execution_count": 50,
   "outputs": [],
   "source": [
    "def hu_from_path_norm(path):  # Compute normalized Hu Moments of an image given its path.\n",
    "    img = cv2.imread(path, cv2.IMREAD_GRAYSCALE)  # Open image in grayscale\n",
    "    imginv = cv2.bitwise_not(img)  # Invert colors\n",
    "    mom = moments(imginv)\n",
    "    hu = hu_invariants(mom)\n",
    "    return hu"
   ],
   "metadata": {
    "collapsed": false,
    "pycharm": {
     "name": "#%%\n"
    }
   }
  },
  {
   "cell_type": "markdown",
   "source": [
    "The following shows us how normalization affects the results."
   ],
   "metadata": {
    "collapsed": false,
    "pycharm": {
     "name": "#%% md\n"
    }
   }
  },
  {
   "cell_type": "code",
   "execution_count": 51,
   "outputs": [
    {
     "name": "stdout",
     "output_type": "stream",
     "text": [
      "Raw Hu moments\t\t80.70175438596492   % success\n",
      "Normalized Hu moments\t98.24561403508771   % success\n"
     ]
    }
   ],
   "source": [
    "xtrain_raw = get_data(xtrainpaths, hu_from_path_raw)\n",
    "xtest_raw = get_data(xtestpaths, hu_from_path_raw)\n",
    "print(\"Raw Hu moments\\t\\t\", end='')\n",
    "my_test(xtrain_raw, ytrain, xtest_raw, ytest)\n",
    "\n",
    "xtrain = get_data(xtrainpaths, hu_from_path_norm)\n",
    "xtest = get_data(xtestpaths, hu_from_path_norm)\n",
    "print(\"Normalized Hu moments\\t\", end='')\n",
    "my_test(xtrain, ytrain, xtest, ytest)"
   ],
   "metadata": {
    "collapsed": false,
    "pycharm": {
     "name": "#%%\n"
    }
   }
  },
  {
   "cell_type": "markdown",
   "source": [
    "As we can see, the normalization enhances the results by a significant amount. From now on, we will thus use the **normalized Hu Moments**."
   ],
   "metadata": {
    "collapsed": false,
    "pycharm": {
     "name": "#%% md\n"
    }
   }
  },
  {
   "cell_type": "markdown",
   "source": [
    "---\n",
    "\n",
    "## Color Histograms <a class=\"anchor\" id=\"ColorHistograms\"></a>\n",
    "\n",
    "Another obvious feature we can use is the color histogram. As the symbols as always the same, their color histograms should also be identical, which means it should be very effective."
   ],
   "metadata": {
    "collapsed": false,
    "pycharm": {
     "name": "#%% md\n"
    }
   }
  },
  {
   "cell_type": "markdown",
   "source": [
    "If we simply use the image as is, our data might be noisy from the white background. To avoid this, we can use a mask.\n",
    "In order to to this, we can use the previously presented shape extractor (aka the extract_shape function) that was not deemed as very useful."
   ],
   "metadata": {
    "collapsed": false,
    "pycharm": {
     "name": "#%% md\n"
    }
   }
  },
  {
   "cell_type": "markdown",
   "source": [
    "**We don't want to compute a full histogram with all the different colors**, as it would be **too long and too heavy**. In order to avoid that, we can try to **reduce the data**, here the colors.\n",
    "\n",
    "To do that, we will be using **kmeans clustering** to determine the \"color groups\": we go over a sample of images, and in this image sample, pick a certain amount of random pixels that constitue our training data based on which we set up our kmeans clustering.\n",
    "\n",
    "Since there are approximately 10 different colors in the Dobble symbols, we decided to make **10 clusters**."
   ],
   "metadata": {
    "collapsed": false,
    "pycharm": {
     "name": "#%% md\n"
    }
   }
  },
  {
   "cell_type": "code",
   "execution_count": 52,
   "outputs": [],
   "source": [
    "def select_rng_pixels(imageList):\n",
    "    random_seed = 3\n",
    "    rng = np.random.default_rng(random_seed)\n",
    "    sample_img = rng.choice(imageList, size=40, axis=0)\n",
    "    pixels = []\n",
    "    for img in sample_img:\n",
    "        image = cv2.imread(img)\n",
    "        image = cv2.cvtColor(image, cv2.COLOR_BGR2RGB)\n",
    "        w, h, p = image.shape\n",
    "        sample_image = image.reshape(w * h, p)  # \"Flatten\" the image shape, basically a list of pixels\n",
    "        sample_pixels = rng.choice(sample_image, size=500, axis=0)  # Pick 500 random pixels among the image's pixels\n",
    "        for p in sample_pixels:\n",
    "            pixels.append(p)\n",
    "    return pixels\n",
    "\n",
    "\n",
    "rng_pixels = select_rng_pixels(xtrainpaths)\n",
    "global kmeans10\n",
    "kmeans10 = KMeans(n_clusters=10).fit(rng_pixels)"
   ],
   "metadata": {
    "collapsed": false,
    "pycharm": {
     "name": "#%%\n"
    }
   }
  },
  {
   "cell_type": "code",
   "execution_count": 53,
   "outputs": [
    {
     "data": {
      "text/plain": "array([[ 26,  25,  24],\n       [253, 254, 254],\n       [148,  37,  25],\n       [247, 171,  70],\n       [ 85, 178, 241],\n       [223,  43,  39],\n       [195, 193, 186],\n       [ 75,  49,  29],\n       [ 91, 123,  49],\n       [111,  87, 119]], dtype=uint8)"
     },
     "execution_count": 53,
     "metadata": {},
     "output_type": "execute_result"
    },
    {
     "data": {
      "text/plain": "<Figure size 432x288 with 1 Axes>",
      "image/png": "[encoded data removed]"
     },
     "metadata": {
      "needs_background": "light"
     },
     "output_type": "display_data"
    }
   ],
   "source": [
    "color_lut = np.uint8(kmeans10.cluster_centers_)\n",
    "plt.bar(np.arange(len(color_lut)),\n",
    "         np.ones(len(color_lut)),\n",
    "         color=color_lut/255)\n",
    "color_lut"
   ],
   "metadata": {
    "collapsed": false,
    "pycharm": {
     "name": "#%%\n"
    }
   }
  },
  {
   "cell_type": "markdown",
   "source": [
    "From then on, we juste need to pass the image's data that went through the shape mask, and get the color histogram we get from the kmeans results."
   ],
   "metadata": {
    "collapsed": false,
    "pycharm": {
     "name": "#%% md\n"
    }
   }
  },
  {
   "cell_type": "code",
   "execution_count": 54,
   "outputs": [
    {
     "data": {
      "text/plain": "<matplotlib.image.AxesImage at 0x2a205b5eb80>"
     },
     "execution_count": 54,
     "metadata": {},
     "output_type": "execute_result"
    },
    {
     "data": {
      "text/plain": "<Figure size 432x288 with 1 Axes>",
      "image/png": "[encoded data removed]"
     },
     "metadata": {
      "needs_background": "light"
     },
     "output_type": "display_data"
    }
   ],
   "source": [
    "image_path = 'trainset/train/01/c01_s00.png'\n",
    "image = cv2.imread(image_path)\n",
    "image = cv2.cvtColor(image, cv2.COLOR_BGR2RGB)\n",
    "back_ground = extract_shape(image)[..., 0] > 0\n",
    "io.imshow(back_ground)"
   ],
   "metadata": {
    "collapsed": false,
    "pycharm": {
     "name": "#%%\n"
    }
   }
  },
  {
   "cell_type": "code",
   "execution_count": 55,
   "outputs": [],
   "source": [
    "def get_histo(image_path):\n",
    "    image = cv2.imread(image_path)\n",
    "    image = cv2.cvtColor(image, cv2.COLOR_BGR2RGB)\n",
    "    back_ground = extract_shape(image)[..., 0] > 0\n",
    "    label_map = kmeans10.predict(image[back_ground])\n",
    "    bb_hist = np.bincount(label_map, minlength=kmeans10.n_clusters) / np.count_nonzero(back_ground)\n",
    "    return np.array(bb_hist).reshape(-1)"
   ],
   "metadata": {
    "collapsed": false,
    "pycharm": {
     "name": "#%%\n"
    }
   }
  },
  {
   "cell_type": "markdown",
   "source": [
    "### Third Feature : BRIEF Algorithm <a class=\"anchor\" id=\"ColorHistogramsEval\"></a>\n",
    "A Fast descriptor algorithm which compute an array of byte base on the intensity of a certain point"
   ],
   "metadata": {
    "collapsed": false,
    "pycharm": {
     "name": "#%% md\n"
    }
   }
  },
  {
   "cell_type": "code",
   "execution_count": 56,
   "outputs": [],
   "source": [
    "def get_centers(points):\n",
    "    centers = []\n",
    "    i = 0\n",
    "    ray = 15\n",
    "    points_size = len(points)\n",
    "    while i in range(points_size):\n",
    "        circle_x, circle_y = points[i]\n",
    "        centers.append((circle_x, circle_y))\n",
    "        points = remove_point_in_circle(circle_x, circle_y, points, ray * 2) # we remove all the point with in the circle\n",
    "        points_size = len(points)\n",
    "        i += 1\n",
    "    return centers\n",
    "\n",
    "def remove_point_in_circle(x, y, L, diam):\n",
    "    len1 = len(L)\n",
    "    i = 0\n",
    "    while i in range((len1)):\n",
    "        x_pos, y_pos = L[i]\n",
    "        if in_circle(x_pos, y_pos, diam, x, y):\n",
    "            L.pop(i)\n",
    "            len1 = len(L)\n",
    "        i += 1\n",
    "    return L\n",
    "\n",
    "def in_circle(x, y, ray, circle_x, circle_y):\n",
    "    return (x - circle_x) * (x - circle_x) + (y - circle_y) * (y - circle_y) <= (ray * ray)"
   ],
   "metadata": {
    "collapsed": false,
    "pycharm": {
     "name": "#%%\n"
    }
   }
  },
  {
   "cell_type": "code",
   "execution_count": 57,
   "outputs": [],
   "source": [
    "def get_image_in_gray(image_path):\n",
    "    image = cv2.imread(image_path)\n",
    "    image = cv2.cvtColor(image, cv2.COLOR_BGR2RGB)\n",
    "    return image\n",
    "\n",
    "def get_shape_edges(shape):\n",
    "    return filters.sobel(shape)\n",
    "\n",
    "def get_edges(shapes):\n",
    "    edges = []\n",
    "    for shape in shapes:\n",
    "        edges.append(get_shape_edges(shape))\n",
    "    return edges\n",
    "\n",
    "def get_white_pixels(image, width, height):\n",
    "    image.reshape(width, height)\n",
    "    white_pixels = []\n",
    "    for i in range(len(image)):\n",
    "        for j in range(len(image[0])):\n",
    "            if image[i][j] != 0.0:\n",
    "                white_pixels.append((i, j))\n",
    "    return white_pixels\n",
    "\n",
    "def extract_shape(image):\n",
    "    sobel = filters.sobel(image)\n",
    "    res = ndi.binary_fill_holes(sobel)\n",
    "    return res"
   ],
   "metadata": {
    "collapsed": false,
    "pycharm": {
     "name": "#%%\n"
    }
   }
  },
  {
   "cell_type": "code",
   "execution_count": 58,
   "outputs": [
    {
     "data": {
      "text/plain": "<matplotlib.image.AxesImage at 0x2a205a81a90>"
     },
     "execution_count": 58,
     "metadata": {},
     "output_type": "execute_result"
    },
    {
     "data": {
      "text/plain": "<Figure size 432x288 with 1 Axes>",
      "image/png": "[encoded data removed]"
     },
     "metadata": {
      "needs_background": "light"
     },
     "output_type": "display_data"
    }
   ],
   "source": [
    "from skimage import io, measure, filters, segmentation, feature, morphology\n",
    "from scipy import ndimage as ndi\n",
    "\n",
    "image_test_path = 'trainset/train/01/c01_s00.png'\n",
    "new_size_image = get_image_in_gray(image_test_path)\n",
    "image_gray = cv2.cvtColor(new_size_image, cv2.COLOR_BGR2GRAY)\n",
    "edges = get_shape_edges(extract_shape(io.imread(image_test_path, as_gray=True))) # we will compute the brief algorithm on the edges of the image\n",
    "w, h = edges.shape\n",
    "io.imshow(edges)"
   ],
   "metadata": {
    "collapsed": false,
    "pycharm": {
     "name": "#%%\n"
    }
   }
  },
  {
   "cell_type": "code",
   "execution_count": 60,
   "outputs": [],
   "source": [
    "def show_centers(image, centers):\n",
    "    for center in centers:\n",
    "        x,y = center\n",
    "        image[x][y][0] = 1\n",
    "        image[x][y][0], image[x][y][0] = 0, 0\n",
    "    return image\n",
    "\n",
    "def get_image_in_colors(image_path):\n",
    "    image = cv2.imread(image_path)\n",
    "    image = cv2.cvtColor(image, cv2.COLOR_BGR2RGB)\n",
    "    return image"
   ],
   "metadata": {
    "collapsed": false,
    "pycharm": {
     "name": "#%%\n"
    }
   }
  },
  {
   "cell_type": "code",
   "execution_count": 61,
   "outputs": [
    {
     "data": {
      "text/plain": "<matplotlib.image.AxesImage at 0x2a205b9a040>"
     },
     "execution_count": 61,
     "metadata": {},
     "output_type": "execute_result"
    },
    {
     "data": {
      "text/plain": "<Figure size 432x288 with 1 Axes>",
      "image/png": "[encoded data removed]"
     },
     "metadata": {
      "needs_background": "light"
     },
     "output_type": "display_data"
    }
   ],
   "source": [
    "centers = get_centers(get_white_pixels(edges, h, w))\n",
    "img_color = get_image_in_colors(image_test_path)\n",
    "\n",
    "io.imshow(show_centers(img_color, centers))"
   ],
   "metadata": {
    "collapsed": false,
    "pycharm": {
     "name": "#%%\n"
    }
   }
  },
  {
   "cell_type": "code",
   "execution_count": null,
   "outputs": [],
   "source": [
    "def compute_string(M, x, y):\n",
    "    s = []\n",
    "    if (M[x - 1][y - 1] < M[x + 1][y + 1]):\n",
    "        s.append(1)\n",
    "    else:\n",
    "        s.append(0)\n",
    "    if (M[x + 1][y - 1] < M[x - 1][y + 1]):\n",
    "        s.append(1)\n",
    "    else:\n",
    "        s.append(0)\n",
    "    if (M[x][y - 1] < M[x][y + 1]):\n",
    "        s.append(1)\n",
    "    else:\n",
    "        s.append(0)\n",
    "    if (M[x - 1][y] < M[x + 1][y]):\n",
    "        s.append(1)\n",
    "    else:\n",
    "        s.append(0)\n",
    "    return s"
   ],
   "metadata": {
    "collapsed": false,
    "pycharm": {
     "name": "#%%\n"
    }
   }
  },
  {
   "cell_type": "code",
   "execution_count": null,
   "outputs": [],
   "source": [
    "def compute_brief_on_image(img_path):\n",
    "    n = 30 # we applied the BRIEF algorithm on 30 random points\n",
    "    new_size_image = get_image_in_gray(img_path)\n",
    "    image_gray = cv2.cvtColor(new_size_image, cv2.COLOR_BGR2GRAY)\n",
    "    edges = get_shape_edges(extract_shape(io.imread(img_path, as_gray=True)))\n",
    "    w, h = edges.shape\n",
    "    centers = get_centers(get_white_pixels(edges, w, h))\n",
    "    value_of_evaluation = []\n",
    "    for c in centers :\n",
    "        x, y = c\n",
    "        if x < w -1 and y < h - 1:\n",
    "            value_of_evaluation.append(compute_string(image_gray, x, y))\n",
    "    value_of_evaluation = np.random.default_rng().choice(value_of_evaluation, size=n, axis=0)\n",
    "    return np.array(value_of_evaluation).flatten()"
   ],
   "metadata": {
    "collapsed": false,
    "pycharm": {
     "name": "#%%\n"
    }
   }
  },
  {
   "cell_type": "code",
   "execution_count": null,
   "outputs": [],
   "source": [
    "def xor_on_hist(A, B):\n",
    "    res = 0\n",
    "    for i in range(len(A)):\n",
    "        res += A[i] ^ B[i] # as bytes array the XOR result is enough\n",
    "    return res\n",
    "\n",
    "def get_distance(histo1, histo2):\n",
    "    return xor_on_hist(histo1, histo2) # compute the distance between to histograms\n",
    "\n",
    "def getPredicted(histo, histograms):\n",
    "    res, pos = get_distance(histo, histograms[0]), 0\n",
    "    for i in range(len(histograms)):\n",
    "        tmp_res = get_distance(histo, histograms[i])\n",
    "        if tmp_res < res:\n",
    "            res, pos = tmp_res, i\n",
    "    return pos + 1\n",
    "\n",
    "\n",
    "def compute_brief(image_path, kmeans):\n",
    "    predict = compute_brief_on_image(image_path)\n",
    "    predict = np.reshape(predict, (1, len(predict)))\n",
    "    label_map = kmeans.predict(predict)\n",
    "    return np.bincount(label_map, minlength=kmeans.n_clusters)"
   ],
   "metadata": {
    "collapsed": false,
    "pycharm": {
     "name": "#%%\n"
    }
   }
  },
  {
   "cell_type": "code",
   "execution_count": null,
   "outputs": [],
   "source": [
    "from dir.dir import getImagesFromTrainset\n",
    "\n",
    "def get_pixels(trainSetPath):\n",
    "    imageList, _ = getImagesFromTrainset(trainSetPath)\n",
    "    rng = np.random.default_rng()\n",
    "    sample_img = rng.choice(imageList, size=15, axis=0)\n",
    "    pixels = []\n",
    "    for img in sample_img:\n",
    "        flatten = np.array(compute_brief_on_image(img)).flatten()\n",
    "        pixels.append(flatten)\n",
    "    return pixels"
   ],
   "metadata": {
    "collapsed": false,
    "pycharm": {
     "name": "#%%\n"
    }
   }
  },
  {
   "cell_type": "code",
   "execution_count": null,
   "outputs": [],
   "source": [
    "train_set_path = 'trainset/train/'\n",
    "pixels = get_pixels(train_set_path)\n",
    "\n",
    "kmeansBrief = KMeans(n_clusters=8).fit(pixels)"
   ],
   "metadata": {
    "collapsed": false,
    "pycharm": {
     "name": "#%%\n"
    }
   }
  },
  {
   "cell_type": "code",
   "execution_count": null,
   "outputs": [],
   "source": [
    "imageList, expectedClass = getImagesFromTrainset(train_set_path)\n",
    "test_set, test_res, train_set, train_res = [], [], [], []\n",
    "data_len = len(imageList)\n",
    "sample = set(random.sample(range(data_len), data_len * 20 // 100))\n",
    "for i in range(data_len):\n",
    "    if i in sample:\n",
    "        test_set.append(imageList[i])\n",
    "        test_res.append(expectedClass[i])\n",
    "    else:\n",
    "        train_set.append(imageList[i])\n",
    "        train_res.append(expectedClass[i])"
   ],
   "metadata": {
    "collapsed": false,
    "pycharm": {
     "name": "#%%\n"
    }
   }
  },
  {
   "cell_type": "code",
   "execution_count": null,
   "outputs": [],
   "source": [
    "hists = [compute_brief(p, kmeansBrief) for p in test_set]\n",
    "hists = np.array(hists)\n",
    "hists.reshape(len(test_set), -1)\n",
    "\n",
    "good, bad = 0, 0\n",
    "for i in range(len(test_set)):\n",
    "    h = compute_brief(test_set[i], kmeansBrief)\n",
    "    predictedClass = getPredicted(h, hists)\n",
    "    if predictedClass == test_res[i]:\n",
    "        good += 1\n",
    "    else:\n",
    "        bad += 1\n",
    "\n",
    "good, bad"
   ],
   "metadata": {
    "collapsed": false,
    "pycharm": {
     "name": "#%%\n"
    }
   }
  },
  {
   "cell_type": "markdown",
   "source": [
    "### Evaluating the results <a class=\"anchor\" id=\"ColorHistogramsEval\"></a>\n",
    "A basic way to evaluate the results is to pass the computed histograms of our training set into a random forest classifier, using the \"my_test\" function."
   ],
   "metadata": {
    "collapsed": false,
    "pycharm": {
     "name": "#%% md\n"
    }
   }
  },
  {
   "cell_type": "code",
   "execution_count": null,
   "outputs": [],
   "source": [
    "xtrain_col = get_data(xtrainpaths, get_histo)\n",
    "xtest_col = get_data(xtestpaths, get_histo)\n",
    "\n",
    "my_test(xtrain_col, ytrain, xtest_col, ytest)"
   ],
   "metadata": {
    "collapsed": false,
    "pycharm": {
     "name": "#%%\n"
    }
   }
  },
  {
   "cell_type": "markdown",
   "source": [
    "As we can see, the results are **very satisfying**, with only the color histograms."
   ],
   "metadata": {
    "collapsed": false,
    "pycharm": {
     "name": "#%% md\n"
    }
   }
  },
  {
   "cell_type": "markdown",
   "source": [
    "---\n",
    "\n",
    "## Evaluating and comparing the results<a class=\"anchor\" id=\"Evaluate\"></a>\n",
    "To simply score the data, we chose to stick to a binary success rate as the given exercise is a basic one that ca simply be evaluated by counting success count over total predictions. We will use this scoring method to chose the best fitting classifier.\n",
    "\n",
    "We first looked into different types of classifiers, and then decided to juste try a lot of different ones to see the results."
   ],
   "metadata": {
    "collapsed": false,
    "pycharm": {
     "name": "#%% md\n"
    }
   }
  },
  {
   "cell_type": "code",
   "execution_count": null,
   "outputs": [],
   "source": [
    "def preprocess(paths, feature_extractors):\n",
    "    # Compute and fuse given features from the feature_extractors list from given image paths\n",
    "    features = get_data(paths, feature_extractors[0])\n",
    "    return features\n",
    "\n",
    "\n",
    "def preprocess_all(trnx, trny, tstx, tsty, extractors):\n",
    "    return preprocess(trnx, extractors), trny, preprocess(tstx, extractors), tsty"
   ],
   "metadata": {
    "collapsed": false,
    "pycharm": {
     "name": "#%%\n"
    }
   }
  },
  {
   "cell_type": "code",
   "execution_count": null,
   "outputs": [],
   "source": [
    "def testset_test(clf, data, expected, display=False):\n",
    "    # Returns Success Rate, True, False, Test set size\n",
    "    false = 0\n",
    "    for i in range(len(data)):\n",
    "        res = clf.predict(data[i].reshape(1, -1))[0]\n",
    "        if res != expected[i]:\n",
    "            false += 1\n",
    "            if display: print(f\"{str(i + 1).zfill(2)}: expected {expected[i]}, but got {str(res).zfill(2)}.\")\n",
    "    return (1 - false / len(data)) * 100, len(data) - false, false, len(data)\n",
    "\n",
    "\n",
    "def test_classifiers(xtrain, ytrain, xtest, ytest):\n",
    "    results = [[*testset_test(RandomForestClassifier().fit(xtrain, ytrain), xtest, ytest), \"RandomForestClassifier\"],\n",
    "               [*testset_test(GaussianNB().fit(xtrain, ytrain), xtest, ytest), \"GaussianNB\"],\n",
    "               [*testset_test(DecisionTreeClassifier().fit(xtrain, ytrain), xtest, ytest), \"DecisionTreeClassifier\"],\n",
    "               [*testset_test(NearestCentroid().fit(xtrain, ytrain), xtest, ytest), \"NearestCentroid\"],\n",
    "               [*testset_test(KNeighborsClassifier().fit(xtrain, ytrain), xtest, ytest), \"KNeighborsClassifier\"],\n",
    "               [*testset_test(LogisticRegression(max_iter=500).fit(xtrain, ytrain), xtest, ytest),\n",
    "                \"LogisticRegression\"],\n",
    "               [*testset_test(LinearSVC().fit(xtrain, ytrain), xtest, ytest), \"LinearSVC\"],\n",
    "               [*testset_test(RidgeClassifier().fit(xtrain, ytrain), xtest, ytest), \"RidgeClassifier\"],\n",
    "               [*testset_test(MLPClassifier().fit(xtrain, ytrain), xtest, ytest), \"MLPClassifier\"],\n",
    "               [*testset_test(random_clf, xtest, ytest), \"Random\"]]\n",
    "\n",
    "    return results"
   ],
   "metadata": {
    "collapsed": false,
    "pycharm": {
     "name": "#%%\n"
    }
   }
  },
  {
   "cell_type": "code",
   "execution_count": null,
   "outputs": [],
   "source": [
    "def full_test(data_dir='trainset/train'):\n",
    "    def display_results(results):\n",
    "        print(\"{:<20} {:<8} {:<8} {:<8} {:<20}\".format(\"Success Rate\", \"True\", \"False\", \"Total\", \"Classifier\"))\n",
    "        print('-' * 20, '-' * 8, '-' * 8, '-' * 8, '-' * 20)\n",
    "        for row in results:\n",
    "            print(\"{:<20} {:<8} {:<8} {:<8} {:<20}\".format(*row))\n",
    "\n",
    "    trainx, trainy, testx, testy = get_imgs_paths(data_dir)\n",
    "\n",
    "    print(\"Hu moments\")\n",
    "    hu_test = test_classifiers(\n",
    "        *preprocess_all(trainx, trainy, testx, testy, [hu_from_path_norm]))  #No fusion, only hu moments\n",
    "    display_results(hu_test)\n",
    "    print()\n",
    "\n",
    "    print(\"Color Histogram\")\n",
    "    col_test = test_classifiers(\n",
    "        *preprocess_all(trainx, trainy, testx, testy, [get_histo]))  #No fusion, only color histogram\n",
    "    display_results(col_test)\n",
    "    print()"
   ],
   "metadata": {
    "collapsed": false,
    "pycharm": {
     "name": "#%%\n"
    }
   }
  },
  {
   "cell_type": "code",
   "execution_count": null,
   "outputs": [],
   "source": [
    "## To get a clear result \n",
    "save = full_test()"
   ],
   "metadata": {
    "collapsed": false,
    "pycharm": {
     "name": "#%%\n"
    }
   }
  },
  {
   "cell_type": "markdown",
   "source": [
    "---\n",
    "\n",
    "## Improving the results : Feature Fusion <a class=\"anchor\" id=\"Improve\"></a>\n",
    "As we are using multiple features, it can be interesting to use feature fusion. As our features on their own are already effective enough, a simple fusion by concatenation will suffice."
   ],
   "metadata": {
    "collapsed": false,
    "pycharm": {
     "name": "#%% md\n"
    }
   }
  },
  {
   "cell_type": "code",
   "execution_count": null,
   "outputs": [],
   "source": [
    "def fuse_features(features):\n",
    "    return np.concatenate(tuple(features), axis=1)"
   ],
   "metadata": {
    "collapsed": false,
    "pycharm": {
     "name": "#%%\n"
    }
   }
  },
  {
   "cell_type": "code",
   "execution_count": null,
   "outputs": [],
   "source": [
    "def preprocess(paths, feature_extractors):\n",
    "    # Compute and fuse given features from the feature_extractors list from given image paths\n",
    "    features = [get_data(paths, extract) for extract in feature_extractors]\n",
    "    data = fuse_features(features)\n",
    "    return data"
   ],
   "metadata": {
    "collapsed": false,
    "pycharm": {
     "name": "#%%\n"
    }
   }
  },
  {
   "cell_type": "markdown",
   "source": [
    "We can now redefine the full_test function to also take into account the feature fusion we just talked about."
   ],
   "metadata": {
    "collapsed": false,
    "pycharm": {
     "name": "#%% md\n"
    }
   }
  },
  {
   "cell_type": "code",
   "execution_count": null,
   "outputs": [],
   "source": [
    "def full_test(data_dir='trainset/train'):\n",
    "    def display_results(results):\n",
    "        print(\"{:<20} {:<8} {:<8} {:<8} {:<20}\".format(\"Success Rate\", \"True\", \"False\", \"Total\", \"Classifier\"))\n",
    "        print('-' * 20, '-' * 8, '-' * 8, '-' * 8, '-' * 20)\n",
    "        for row in results:\n",
    "            print(\"{:<20} {:<8} {:<8} {:<8} {:<20}\".format(*row))\n",
    "\n",
    "    trainx, trainy, testx, testy = get_imgs_paths(data_dir)\n",
    "\n",
    "    print(\"Hu moments\")\n",
    "    hu_test = test_classifiers(\n",
    "        *preprocess_all(trainx, trainy, testx, testy, [hu_from_path_norm]))  #No fusion, only hu moments\n",
    "    display_results(hu_test)\n",
    "    print()\n",
    "\n",
    "    print(\"Color Histogram\")\n",
    "    col_test = test_classifiers(\n",
    "        *preprocess_all(trainx, trainy, testx, testy, [get_histo]))  #No fusion, only color histogram\n",
    "    display_results(col_test)\n",
    "    print()\n",
    "\n",
    "    print(\"Color histogram & Hu moments simple fusion\")\n",
    "    hucol_test = test_classifiers(\n",
    "        *preprocess_all(trainx, trainy, testx, testy, [hu_from_path_norm, get_histo]))  #Fusion, hu moments + histograms\n",
    "    display_results(hucol_test)"
   ],
   "metadata": {
    "collapsed": false,
    "pycharm": {
     "name": "#%%\n"
    }
   }
  },
  {
   "cell_type": "code",
   "execution_count": null,
   "outputs": [],
   "source": [
    "## To get a clear result \n",
    "save = full_test()"
   ],
   "metadata": {
    "collapsed": false,
    "pycharm": {
     "name": "#%%\n"
    }
   }
  },
  {
   "cell_type": "markdown",
   "source": [
    "---\n",
    "\n",
    "## Results analysis<a class=\"anchor\" id=\"Results\"></a>\n",
    "The previous results show how Hu moments on their own can be good enough. However, after some extensive testing, **Hu Moments are only perfectly effective half of the time** (but still close to perfection).\n",
    "\n",
    "Although **color histograms are showing some very satisfying results**, we still aren't getting perfect results.\n",
    "\n",
    "This is why we chose to use **feature fusion**, which clearly reinforced our results.\n",
    "\n",
    "As for the classifier, the **Random Forest Classifier** is the clear winner, as it gives us perfect predictions. This observation is normal considering random forests are better suited for multiclass classification, with leaf nodes that can refer to any of the K classes concerned, and the multiplicity of trees (as it is a forest) allows us to reinforce the results.\n",
    "\n",
    "Please note that the Gaussian Naive Bayes also produces some nice results."
   ],
   "metadata": {
    "collapsed": false,
    "pycharm": {
     "name": "#%% md\n"
    }
   }
  },
  {
   "cell_type": "code",
   "execution_count": null,
   "outputs": [],
   "source": [
    "trainx, trainy, testx, testy = preprocess_all(*get_imgs_paths(trainpath), [hu_from_path_norm, get_histo])\n",
    "best_clf = RandomForestClassifier().fit(trainx, trainy)"
   ],
   "metadata": {
    "collapsed": false,
    "pycharm": {
     "name": "#%%\n"
    }
   }
  },
  {
   "cell_type": "markdown",
   "source": [
    "Another way to improve our project would be to fiddle with the meta parameters. Unfortunately, we didn't have enough time left to look into it."
   ],
   "metadata": {
    "collapsed": false,
    "pycharm": {
     "name": "#%% md\n"
    }
   }
  },
  {
   "cell_type": "code",
   "execution_count": null,
   "outputs": [],
   "source": [
    "best_clf.get_params()"
   ],
   "metadata": {
    "collapsed": false,
    "pycharm": {
     "name": "#%%\n"
    }
   }
  },
  {
   "cell_type": "markdown",
   "source": [
    "We can also use sklearn scoring functions, but since the results are perfect, there isn't much point in using it..."
   ],
   "metadata": {
    "collapsed": false,
    "pycharm": {
     "name": "#%% md\n"
    }
   }
  },
  {
   "cell_type": "code",
   "execution_count": null,
   "outputs": [],
   "source": [
    "y_pred = np.array([best_clf.predict(x.reshape(1, -1)) for x in testx])\n",
    "score_per_class = f1_score(testy, y_pred, average=None)\n",
    "global_score = f1_score(testy, y_pred, average='micro')"
   ],
   "metadata": {
    "collapsed": false,
    "pycharm": {
     "name": "#%%\n"
    }
   }
  },
  {
   "cell_type": "code",
   "execution_count": null,
   "outputs": [],
   "source": [
    "print(f\"global_score:\\t\\t {global_score}.\")"
   ],
   "metadata": {
    "collapsed": false,
    "pycharm": {
     "name": "#%%\n"
    }
   }
  },
  {
   "cell_type": "markdown",
   "source": [
    "---\n",
    "\n",
    "## Conclusion<a class=\"anchor\" id=\"Conclusion\"></a>\n",
    "\n",
    "All in all, we managed to create a classifier that can confidently infer the type of a Dobble symbol with (close to) perfect accuracy."
   ],
   "metadata": {
    "collapsed": false,
    "pycharm": {
     "name": "#%% md\n"
    }
   }
  },
  {
   "cell_type": "markdown",
   "source": [
    "### Save the model !\n",
    "You can use the following to save the mode to avoid training it again."
   ],
   "metadata": {
    "collapsed": false,
    "pycharm": {
     "name": "#%% md\n"
    }
   }
  },
  {
   "cell_type": "code",
   "execution_count": null,
   "outputs": [],
   "source": [
    "def save_model(model):\n",
    "    joblib_file = \"zodinx.pkl\"\n",
    "    joblib.dump(model, joblib_file)\n",
    "\n",
    "\n",
    "save_model(best_clf)\n",
    "\n",
    "\n",
    "def load_model():\n",
    "    joblib_file = \"zodinx.pkl\"\n",
    "    bis = joblib.load(joblib_file)\n",
    "    return bis\n",
    "\n",
    "\n",
    "testset_test(load_model(), testx, testy)"
   ],
   "metadata": {
    "collapsed": false,
    "pycharm": {
     "name": "#%%\n"
    }
   }
  },
  {
   "cell_type": "markdown",
   "source": [
    "We can now redefine the full_test function to also take into account the feature fusion we just talked about."
   ],
   "metadata": {
    "collapsed": false,
    "pycharm": {
     "name": "#%% md\n"
    }
   }
  },
  {
   "cell_type": "code",
   "execution_count": null,
   "outputs": [],
   "source": [
    "def full_test(data_dir='trainset/train'):\n",
    "    def display_results(results):\n",
    "        print(\"{:<20} {:<8} {:<8} {:<8} {:<20}\".format(\"Success Rate\", \"True\", \"False\", \"Total\", \"Classifier\"))\n",
    "        print('-' * 20, '-' * 8, '-' * 8, '-' * 8, '-' * 20)\n",
    "        for row in results:\n",
    "            print(\"{:<20} {:<8} {:<8} {:<8} {:<20}\".format(*row))\n",
    "\n",
    "    trainx, trainy, testx, testy = get_imgs_paths(data_dir)\n",
    "\n",
    "    print(\"Hu moments\")\n",
    "    hu_test = test_classifiers(\n",
    "        *preprocess_all(trainx, trainy, testx, testy, [hu_from_path_norm]))  #No fusion, only hu moments\n",
    "    display_results(hu_test)\n",
    "    print()\n",
    "\n",
    "    print(\"Color Histogram\")\n",
    "    col_test = test_classifiers(\n",
    "        *preprocess_all(trainx, trainy, testx, testy, [get_histo]))  #No fusion, only color histogram\n",
    "    display_results(col_test)\n",
    "    print()\n",
    "\n",
    "    print(\"Color histogram & Hu moments simple fusion\")\n",
    "    hucol_test = test_classifiers(\n",
    "        *preprocess_all(trainx, trainy, testx, testy, [hu_from_path_norm, get_histo]))  #Fusion, hu moments + histograms\n",
    "    display_results(hucol_test)"
   ],
   "metadata": {
    "collapsed": false,
    "pycharm": {
     "name": "#%%\n"
    }
   }
  },
  {
   "cell_type": "code",
   "execution_count": null,
   "outputs": [],
   "source": [
    "## To get a clear result \n",
    "save = full_test()"
   ],
   "metadata": {
    "collapsed": false,
    "pycharm": {
     "name": "#%%\n"
    }
   }
  },
  {
   "cell_type": "markdown",
   "id": "8503d4f7",
   "metadata": {
    "pycharm": {
     "name": "#%% md\n"
    }
   },
   "source": [
    "---\n",
    "\n",
    "## Results analysis<a class=\"anchor\" id=\"Results\"></a>\n",
    "The previous results show how Hu moments on their own can be good enough. However, after some extensive testing, **Hu Moments are only perfectly effective half of the time** (but still close to perfection).\n",
    "\n",
    "Although **color histograms are showing some very satisfying results**, we still aren't getting perfect results.\n",
    "\n",
    "This is why we chose to use **feature fusion**, which clearly reinforced our results.\n",
    "\n",
    "As for the classifier, the **Random Forest Classifier** is the clear winner, as it gives us perfect predictions. This observation is normal considering random forests are better suited for multiclass classification, with leaf nodes that can refer to any of the K classes concerned, and the multiplicity of trees (as it is a forest) allows us to reinforce the results.\n",
    "\n",
    "Please note that the Gaussian Naive Bayes also produces some nice results."
   ]
  },
  {
   "cell_type": "code",
   "execution_count": null,
   "id": "d5a8c797",
   "metadata": {
    "pycharm": {
     "name": "#%%\n"
    }
   },
   "outputs": [],
   "source": [
    "trainx, trainy, testx, testy = preprocess_all(*get_imgs_paths(trainpath), [hu_from_path_norm, get_histo])\n",
    "best_clf = RandomForestClassifier().fit(trainx, trainy)"
   ]
  },
  {
   "cell_type": "markdown",
   "id": "60328a06",
   "metadata": {
    "pycharm": {
     "name": "#%% md\n"
    }
   },
   "source": [
    "Another way to improve our project would be to fiddle with the meta parameters. Unfortunately, we didn't have enough time left to look into it."
   ]
  },
  {
   "cell_type": "code",
   "execution_count": null,
   "id": "f9ed8941",
   "metadata": {
    "pycharm": {
     "name": "#%%\n"
    }
   },
   "outputs": [],
   "source": [
    "best_clf.get_params()"
   ]
  },
  {
   "cell_type": "markdown",
   "id": "d4ffc13f",
   "metadata": {
    "pycharm": {
     "name": "#%% md\n"
    }
   },
   "source": [
    "We can also use sklearn scoring functions, but since the results are perfect, there isn't much point in using it..."
   ]
  },
  {
   "cell_type": "code",
   "execution_count": null,
   "id": "fa1508b0",
   "metadata": {
    "pycharm": {
     "name": "#%%\n"
    }
   },
   "outputs": [],
   "source": [
    "y_pred = np.array([best_clf.predict(x.reshape(1, -1)) for x in testx])\n",
    "score_per_class = f1_score(testy, y_pred, average=None)\n",
    "global_score = f1_score(testy, y_pred, average='micro')"
   ]
  },
  {
   "cell_type": "code",
   "execution_count": null,
   "id": "3c2726cc",
   "metadata": {
    "pycharm": {
     "name": "#%%\n"
    }
   },
   "outputs": [],
   "source": [
    "print(f\"global_score:\\t\\t {global_score}.\")"
   ]
  },
  {
   "cell_type": "markdown",
   "id": "a9a80724",
   "metadata": {
    "pycharm": {
     "name": "#%% md\n"
    }
   },
   "source": [
    "---\n",
    "\n",
    "## Conclusion<a class=\"anchor\" id=\"Conclusion\"></a>\n",
    "\n",
    "All in all, we managed to create a classifier that can confidently infer the type of a Dobble symbol with (close to) perfect accuracy."
   ]
  },
  {
   "cell_type": "markdown",
   "id": "5f57327c",
   "metadata": {
    "pycharm": {
     "name": "#%% md\n"
    }
   },
   "source": [
    "### Save the model !\n",
    "You can use the following to save the mode to avoid training it again."
   ]
  },
  {
   "cell_type": "code",
   "execution_count": null,
   "id": "2540ac6f",
   "metadata": {
    "pycharm": {
     "name": "#%%\n"
    }
   },
   "outputs": [],
   "source": [
    "def save_model(model):\n",
    "    joblib_file = \"zodinx.pkl\"\n",
    "    joblib.dump(model, joblib_file)\n",
    "\n",
    "\n",
    "save_model(best_clf)\n",
    "\n",
    "\n",
    "def load_model():\n",
    "    joblib_file = \"zodinx.pkl\"\n",
    "    bis = joblib.load(joblib_file)\n",
    "    return bis\n",
    "\n",
    "\n",
    "testset_test(load_model(), testx, testy)"
   ]
  },
  {
   "cell_type": "code",
   "execution_count": null,
   "id": "c2e42d1f",
   "metadata": {
    "pycharm": {
     "name": "#%%\n"
    }
   },
   "outputs": [],
   "source": [
    "joblib.dump(kmeans10, 'kmeans.pkl')"
   ]
  }
 ],
 "metadata": {
  "kernelspec": {
   "display_name": "Python 3 (ipykernel)",
   "language": "python",
   "name": "python3"
  },
  "language_info": {
   "codemirror_mode": {
    "name": "ipython",
    "version": 3
   },
   "file_extension": ".py",
   "mimetype": "text/x-python",
   "name": "python",
   "nbconvert_exporter": "python",
   "pygments_lexer": "ipython3",
   "version": "3.9.10"
  }
 },
 "nbformat": 4,
 "nbformat_minor": 5
}